{
 "cells": [
  {
   "cell_type": "code",
   "execution_count": 18,
   "id": "d280167b",
   "metadata": {},
   "outputs": [],
   "source": [
    "import re"
   ]
  },
  {
   "cell_type": "code",
   "execution_count": 19,
   "id": "968d0f38",
   "metadata": {},
   "outputs": [],
   "source": [
    "text = 'before going outdoor take Umbrellas'"
   ]
  },
  {
   "cell_type": "code",
   "execution_count": 20,
   "id": "68deaaec",
   "metadata": {},
   "outputs": [],
   "source": [
    "re_ex = re.search(r'^b.*s$',text)"
   ]
  },
  {
   "cell_type": "code",
   "execution_count": 21,
   "id": "f97e47d1",
   "metadata": {},
   "outputs": [
    {
     "name": "stdout",
     "output_type": "stream",
     "text": [
      "<re.Match object; span=(0, 35), match='before going outdoor take Umbrellas'>\n"
     ]
    }
   ],
   "source": [
    "print(re_ex)"
   ]
  },
  {
   "cell_type": "code",
   "execution_count": 22,
   "id": "e464ad73",
   "metadata": {},
   "outputs": [],
   "source": [
    "txt = \"The rain in Spain\"\n",
    "x = re.search(\"^The.*Spain$\", txt)"
   ]
  },
  {
   "cell_type": "code",
   "execution_count": 23,
   "id": "d90ea1ad",
   "metadata": {},
   "outputs": [
    {
     "data": {
      "text/plain": [
       "<re.Match object; span=(0, 17), match='The rain in Spain'>"
      ]
     },
     "execution_count": 23,
     "metadata": {},
     "output_type": "execute_result"
    }
   ],
   "source": [
    "x"
   ]
  },
  {
   "cell_type": "code",
   "execution_count": 31,
   "id": "26109aa4",
   "metadata": {},
   "outputs": [
    {
     "name": "stdout",
     "output_type": "stream",
     "text": [
      "<re.Match object; span=(14, 15), match='.'>\n"
     ]
    }
   ],
   "source": [
    "# \\ Backslash\n",
    "\n",
    "text_2 = 'life_mid@yahoo.com'\n",
    "                            # Your finding dot (.) its an metachracters so use backslash \\ before dot (.)\n",
    "re_x = re.search(r'\\.',text_2)\n",
    "print(re_x)"
   ]
  },
  {
   "cell_type": "code",
   "execution_count": 68,
   "id": "dda0cfa5",
   "metadata": {
    "scrolled": false
   },
   "outputs": [
    {
     "name": "stdout",
     "output_type": "stream",
     "text": [
      "['l', 'a', 'r', 'g', 'e', 'l', 'a', 'n', 'g', 'u', 'a', 'g', 'e', 'm', 'o', 'd', 'e', 'l', 'i', 's', 'a', 'l', 'a', 'n', 'g', 'u', 'a', 'g', 'e', 'm', 'o', 'd', 'e', 'l', 'c', 'h', 'a', 'r', 'a', 'c', 't', 'e', 'r', 'i', 'z', 'e', 'd', 'b', 'y', 'e', 'm', 'e', 'r', 'g', 'e', 'n', 't', 'p', 'r', 'o', 'p', 'e', 'r', 't', 'i', 'e', 's', 'e', 'n', 'a', 'b', 'l', 'e', 'd', 'b', 'y', 'i', 't', 's', 'l', 'a', 'r', 'g', 'e', 's', 'i', 'z', 'e']\n",
      "~~~~~~~~~~~~~~~~~~~~~~~~~~~~~~~~~~~~~~~~~~~~~~~~~~~~~~~~~~~~~~~~~~~~~~~~~~~~~~~~~~~~~~~~~~~~~~~~~~~~~~~~~~~~~~~~~~~~~~~\n",
      "['A', 'L', 'L', 'M']\n"
     ]
    }
   ],
   "source": [
    "# [] – Square Brackets\n",
    "\n",
    "text_3 = \"A large language model (LLM) is a language model characterized by emergent properties enabled by its large size.\"\n",
    "\n",
    "re_x = re.findall(r'[a-z]',text_3)\n",
    "re_ex = re.findall(r'[A-Z]',text_3)\n",
    "\n",
    "\n",
    "print(re_x)\n",
    "print('~~~~~~~~~~~~~~~~~~~~~~~~~~~~~~~~~~~~~~~~~~~~~~~~~~~~~~~~~~~~~~~~~~~~~~~~~~~~~~~~~~~~~~~~~~~~~~~~~~~~~~~~~~~~~~~~~~~~~~~')\n",
    "print(re_ex)"
   ]
  },
  {
   "cell_type": "code",
   "execution_count": 69,
   "id": "63c0d121",
   "metadata": {},
   "outputs": [
    {
     "name": "stdout",
     "output_type": "stream",
     "text": [
      "Found\n"
     ]
    }
   ],
   "source": [
    "# ^ – Caret\n",
    "# Caret (^) symbol matches the beginning of the string i.e. checks whether the string starts with the given character(s) or not\n",
    "\n",
    "strings = 'The A quick brown fox'\n",
    "\n",
    "re_response = re.search(r'^The',strings)\n",
    "if re_response:\n",
    "    print('Found')\n",
    "else:\n",
    "    print('Not Found')"
   ]
  },
  {
   "cell_type": "code",
   "execution_count": 70,
   "id": "96b20f0f",
   "metadata": {},
   "outputs": [
    {
     "name": "stdout",
     "output_type": "stream",
     "text": [
      "Match\n"
     ]
    }
   ],
   "source": [
    "#$ – Dollar\n",
    "#Dollar($) symbol matches the end of the string i.e checks whether the string ends with the given character(s) or not. For example –\n",
    "\n",
    "string = 'Hello World'\n",
    "pattern = r'World$'\n",
    "\n",
    "response = re.search(pattern,string)\n",
    "if response:\n",
    "    print('Match')\n",
    "else:\n",
    "    print('Not Found')"
   ]
  },
  {
   "cell_type": "code",
   "execution_count": 81,
   "id": "411e223b",
   "metadata": {},
   "outputs": [
    {
     "name": "stdout",
     "output_type": "stream",
     "text": [
      "FOuNd\n"
     ]
    }
   ],
   "source": [
    "# . – Dot\n",
    "# Dot(.) symbol matches only a single character except for the newline character (\\n). For example –  \n",
    "\n",
    "string = 'A Cow Give milk and we process and make multiple dairy products.'\n",
    "pattern = r'Cow.Give'\n",
    "\n",
    "response_ = re.search(pattern,string)\n",
    "if response_:\n",
    "    print('FOuNd')\n",
    "    \n",
    "else:\n",
    "    print('Not')"
   ]
  },
  {
   "cell_type": "code",
   "execution_count": null,
   "id": "ebc6d3a5",
   "metadata": {},
   "outputs": [],
   "source": []
  }
 ],
 "metadata": {
  "kernelspec": {
   "display_name": "Python 3 (ipykernel)",
   "language": "python",
   "name": "python3"
  },
  "language_info": {
   "codemirror_mode": {
    "name": "ipython",
    "version": 3
   },
   "file_extension": ".py",
   "mimetype": "text/x-python",
   "name": "python",
   "nbconvert_exporter": "python",
   "pygments_lexer": "ipython3",
   "version": "3.11.2"
  }
 },
 "nbformat": 4,
 "nbformat_minor": 5
}
